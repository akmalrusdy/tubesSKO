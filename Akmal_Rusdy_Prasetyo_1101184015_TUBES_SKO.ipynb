{
  "nbformat": 4,
  "nbformat_minor": 0,
  "metadata": {
    "colab": {
      "name": "Akmal Rusdy Prasetyo_1101184015_TUBES SKO",
      "provenance": [],
      "authorship_tag": "ABX9TyOkrJ44Xj+dYQSTc8xIEsUd",
      "include_colab_link": true
    },
    "kernelspec": {
      "name": "python3",
      "display_name": "Python 3"
    }
  },
  "cells": [
    {
      "cell_type": "markdown",
      "metadata": {
        "id": "view-in-github",
        "colab_type": "text"
      },
      "source": [
        "<a href=\"https://colab.research.google.com/github/akmalrusdy/tubesSKO/blob/main/Akmal_Rusdy_Prasetyo_1101184015_TUBES_SKO.ipynb\" target=\"_parent\"><img src=\"https://colab.research.google.com/assets/colab-badge.svg\" alt=\"Open In Colab\"/></a>"
      ]
    },
    {
      "cell_type": "markdown",
      "metadata": {
        "id": "uh0JyRIlgumV"
      },
      "source": [
        "Nama : Akmal Rusdy Prasetyo\r\n",
        "\r\n",
        "NIM : 1101184015\r\n",
        "\r\n",
        "Kelas : TT-42-02\r\n",
        "\r\n",
        "---\r\n",
        "Skenario Perancangan FTTB :\r\n",
        "\r\n",
        "Suatu gedung memiliki 13 lantai dan tinggi rata rata tiap lantai adalah 5 m. Jarak dari Gedung ke Sentral terdekat berkisar diantara 15 km. Pemasangan direncana menggunakan 6 konektor dan 2 splitter, splitter yang digunakan berjenis splitter 1:32 dengan redaman 16.5 dB. Kami menggunakan fiber jenis G657 dengan panjang gelombang 1490 nm dengan redaman 0.4 dB/Km. Maka dari itu dapat diperoleh 8 buah splicer yang memiliki redaman 0.1 db.\r\n",
        "\r\n",
        "DIK :\r\n",
        "*   Tinggi Gedung = 13*5 = 65m\r\n",
        "*   Jumlah Konektor = 6\r\n",
        "*   Jumlah Splitter = 2\r\n",
        "*   Jumlah Splicer = 8\r\n",
        "*   Fiber Jenis G657, panjang gelombang 1490nm, redaman 0.4 dB/Km\r\n",
        "*   Redaman Splicer 0.1 dB\r\n",
        "\r\n",
        "\r\n",
        "\r\n",
        "\r\n",
        "\r\n",
        "\r\n",
        "\r\n",
        "\r\n",
        "\r\n"
      ]
    },
    {
      "cell_type": "code",
      "metadata": {
        "id": "E6VXYO2tguKt"
      },
      "source": [
        "import math as m\r\n",
        "import matplotlib.pyplot as plt\r\n",
        "import numpy as np"
      ],
      "execution_count": null,
      "outputs": []
    },
    {
      "cell_type": "code",
      "metadata": {
        "id": "BbxYhKroqZGO"
      },
      "source": [
        "#Converter\r\n",
        "NtL = lambda x : 10 * np.log10(x)\r\n",
        "LtN = lambda x : 10**(x/10)\r\n",
        "\r\n",
        "#SNR\r\n",
        "R = 0.8 #Responsivitas (A/W)\r\n",
        "SM = 3 #Safety Margin (dB)\r\n",
        "M = -0.23 #Tambahan daya sinyal APD (dB)\r\n",
        "q = 1.6*10**-19\r\n",
        "id = 200*10**-9 #arus gelap (A)\r\n",
        "B = 8*10**9 #Bandwith (Hz)\r\n",
        "F = 1 #F(M), Faktor Gain\r\n",
        "K = 1.38*10**-23\r\n",
        "Teff = 300 #Kelvin\r\n",
        "RL = 50 #Ekuivalen Resistansi (Ohm)\r\n",
        "\r\n",
        "#PR\r\n",
        "d = np.arange(0.065,15.065,1) #Jarak (km)\r\n",
        "l_f = 0.4 #0.2 #Loss Fiber (dB/km)\r\n",
        "n_s = 8 #Jumlah Splicer\r\n",
        "l_s = 0.1 #Loss dari splicer (dB)\r\n",
        "n_c = 6 #Jumlah Konektor\r\n",
        "l_c = 0.3 #Loss dari konektor (dB)\r\n",
        "l_sp = 16.5 + 16.5 #loss dari splitter (dB)\r\n",
        "Pt = 3 #Daya tx (dBm)"
      ],
      "execution_count": null,
      "outputs": []
    },
    {
      "cell_type": "code",
      "metadata": {
        "colab": {
          "base_uri": "https://localhost:8080/"
        },
        "id": "fTwP7igr6qD5",
        "outputId": "5bbc9aef-bab1-420b-e309-6bc4a70f68e7"
      },
      "source": [
        "def P_receive():\r\n",
        "  #Pr,Pt (dBm)\r\n",
        "  #L_fiber,N_splitter,L_splicer,N_connector,L_connector,L_splitter (dB)\r\n",
        "\r\n",
        "  res_fiber = d * l_f\r\n",
        "  res_splicer = n_s * l_s\r\n",
        "  res_connector = n_c * l_c\r\n",
        "\r\n",
        "  alfa_tot = res_fiber + res_splicer + res_connector + l_sp + SM\r\n",
        "  Pr = Pt - alfa_tot\r\n",
        "  return Pr\r\n",
        "\r\n",
        "Pr = P_receive()\r\n",
        "print('Daya Terima = ', Pr)"
      ],
      "execution_count": null,
      "outputs": [
        {
          "output_type": "stream",
          "text": [
            "Daya Terima =  [-35.626 -36.026 -36.426 -36.826 -37.226 -37.626 -38.026 -38.426 -38.826\n",
            " -39.226 -39.626 -40.026 -40.426 -40.826 -41.226]\n"
          ],
          "name": "stdout"
        }
      ]
    },
    {
      "cell_type": "code",
      "metadata": {
        "colab": {
          "base_uri": "https://localhost:8080/"
        },
        "id": "EtbfSRdt7aPW",
        "outputId": "c3bbae5a-64d1-4500-eea2-63383c8e38f3"
      },
      "source": [
        "def arus_primer():\r\n",
        "  Pr_num = LtN(Pr)\r\n",
        "  Ip = Pr_num * R\r\n",
        "  return Ip\r\n",
        "Ip = arus_primer()\r\n",
        "print(\"Ip = \", Ip)"
      ],
      "execution_count": null,
      "outputs": [
        {
          "output_type": "stream",
          "text": [
            "Ip =  [2.19023133e-04 1.99751471e-04 1.82175507e-04 1.66146037e-04\n",
            " 1.51526987e-04 1.38194254e-04 1.26034658e-04 1.14944974e-04\n",
            " 1.04831062e-04 9.56070652e-05 8.71946798e-05 7.95224931e-05\n",
            " 7.25253757e-05 6.61439287e-05 6.03239800e-05]\n"
          ],
          "name": "stdout"
        }
      ]
    },
    {
      "cell_type": "code",
      "metadata": {
        "colab": {
          "base_uri": "https://localhost:8080/"
        },
        "id": "K1LKf-XE7n-0",
        "outputId": "021e6dbd-67d2-4f89-eaf6-6abc75e5e3b5"
      },
      "source": [
        "def signal_power():\r\n",
        "  SP = (Ip*M)**2\r\n",
        "  return SP\r\n",
        "SP = signal_power()\r\n",
        "print('Signal Power = ', SP)"
      ],
      "execution_count": null,
      "outputs": [
        {
          "output_type": "stream",
          "text": [
            "Signal Power =  [2.53767292e-09 2.11074440e-09 1.75564072e-09 1.46027835e-09\n",
            " 1.21460663e-09 1.01026579e-09 8.40302481e-10 6.98933161e-10\n",
            " 5.81347282e-10 4.83543607e-10 4.02194054e-10 3.34530443e-10\n",
            " 2.78250303e-10 2.31438521e-10 1.92502177e-10]\n"
          ],
          "name": "stdout"
        }
      ]
    },
    {
      "cell_type": "code",
      "metadata": {
        "colab": {
          "base_uri": "https://localhost:8080/"
        },
        "id": "gGfj7QjF70o9",
        "outputId": "22c68c71-1951-4ed3-f6ed-e30d1eee2812"
      },
      "source": [
        "#RUMUS SNR\r\n",
        "def SNR():\r\n",
        "  BDC = 2*q*id*B*(M**2)*F #Dark Current (Numerik)\r\n",
        "  SN = 2*q*Ip*B*(M**2)*F #Shot Noise (Numerik)\r\n",
        "  NT = (4*K*Teff*B)/RL #Noise Thermal (Numerik)\r\n",
        "  Signal = SP # (Numerik)\r\n",
        "  Noise = BDC + SN + NT # (Numerik)\r\n",
        "\r\n",
        "  SNR = Signal / Noise\r\n",
        "  SNR_dBm = NtL(SNR)\r\n",
        "  return SNR_dBm\r\n",
        "\r\n",
        "SNR = SNR()\r\n",
        "print(SNR)"
      ],
      "execution_count": null,
      "outputs": [
        {
          "output_type": "stream",
          "text": [
            "[29.76416235 28.9683948  28.17225843 27.37578511 26.57900397 25.7819417\n",
            " 24.98462266 24.18706918 23.38930163 22.59133865 21.79319727 20.99489305\n",
            " 20.19644019 19.39785168 18.59913937]\n"
          ],
          "name": "stdout"
        }
      ]
    },
    {
      "cell_type": "code",
      "metadata": {
        "colab": {
          "base_uri": "https://localhost:8080/"
        },
        "id": "bbMitHZz8Qza",
        "outputId": "9b1e588f-e7cc-4786-b18a-e6ef0c522bf6"
      },
      "source": [
        "#RUMUS Q\r\n",
        "def Q_rumus():\r\n",
        "  Q = 0.5*(10**(SNR/20))\r\n",
        "  return Q\r\n",
        "Q = Q_rumus()\r\n",
        "print(Q)"
      ],
      "execution_count": null,
      "outputs": [
        {
          "output_type": "stream",
          "text": [
            "[15.3878563  14.04073181 12.81099689 11.68851288 10.66400164  9.72897504\n",
            "  8.87566981  8.0969874   7.3864385   6.73809201  6.14652805  5.60679473\n",
            "  5.11436847  4.66511752  4.25526854]\n"
          ],
          "name": "stdout"
        }
      ]
    },
    {
      "cell_type": "code",
      "metadata": {
        "colab": {
          "base_uri": "https://localhost:8080/"
        },
        "id": "AyEsdANy8qBr",
        "outputId": "999f51a2-10f1-419c-a4e8-512cd1d99345"
      },
      "source": [
        "#RUMUS BER\r\n",
        "pengkali_list = []\r\n",
        "def BER_rumus():\r\n",
        "  akar = 1/(Q * m.sqrt(2 * m.pi))\r\n",
        "  for i in range(len(Q)):\r\n",
        "    pengkali = m.exp(-(Q[i]**2)/2)\r\n",
        "    pengkali_list.append(pengkali)\r\n",
        "  BER = (1/akar)*(pengkali_list)\r\n",
        "  return BER\r\n",
        "BER = BER_rumus()\r\n",
        "print(BER)"
      ],
      "execution_count": null,
      "outputs": [
        {
          "output_type": "stream",
          "text": [
            "[1.47507837e-50 5.46519624e-42 7.38093270e-35 6.30817314e-29\n",
            " 5.40534920e-24 6.81598978e-20 1.74169104e-16 1.17754804e-13\n",
            " 2.63078799e-11 2.33740003e-09 9.63693508e-08 2.09667911e-06\n",
            " 2.67924629e-05 2.19840306e-04 1.24756855e-03]\n"
          ],
          "name": "stdout"
        }
      ]
    },
    {
      "cell_type": "code",
      "metadata": {
        "colab": {
          "base_uri": "https://localhost:8080/",
          "height": 1000
        },
        "id": "OUy4QejT8uPk",
        "outputId": "aee2677e-3703-4e87-e0ce-aa003d4b09e9"
      },
      "source": [
        "#GRAFIK\r\n",
        "def grafik_1():\r\n",
        "  plt.figure()\r\n",
        "  plt.plot(d,SNR,'r')\r\n",
        "  plt.title('Perbandingan Jarak dengan SNR')\r\n",
        "  plt.xlabel('Jarak (Km)')\r\n",
        "  plt.ylabel('SNR (dB)')\r\n",
        "  plt.show()\r\n",
        "\r\n",
        "def grafik_2():\r\n",
        "  plt.figure()\r\n",
        "  plt.plot(d,Q,'g')\r\n",
        "  plt.title('Perbandingan Jarak dengan Q')\r\n",
        "  plt.xlabel('Jarak (Km)')\r\n",
        "  plt.ylabel('Q')\r\n",
        "  plt.show()\r\n",
        "\r\n",
        "def grafik_3():\r\n",
        "  plt.figure()\r\n",
        "  plt.plot(d,BER,'b')\r\n",
        "  plt.title('Perbandingan Jarak dengan BER')\r\n",
        "  plt.xlabel('Jarak (Km)')\r\n",
        "  plt.ylabel('BER')\r\n",
        "  plt.show()\r\n",
        "\r\n",
        "def grafik_4():\r\n",
        "  plt.figure()\r\n",
        "  plt.plot(SNR,BER,'--')\r\n",
        "  plt.title('SNR vs BER')\r\n",
        "  plt.xlabel('SNR (dB)')\r\n",
        "  plt.ylabel('BER')\r\n",
        "  plt.show()\r\n",
        "\r\n",
        "grafik_1()\r\n",
        "grafik_2()\r\n",
        "grafik_3()\r\n",
        "grafik_4()"
      ],
      "execution_count": null,
      "outputs": [
        {
          "output_type": "display_data",
          "data": {
            "image/png": "[encoded data removed]",
            "text/plain": [
              "<Figure size 432x288 with 1 Axes>"
            ]
          },
          "metadata": {
            "tags": [],
            "needs_background": "light"
          }
        },
        {
          "output_type": "display_data",
          "data": {
            "image/png": "[encoded data removed]",
            "text/plain": [
              "<Figure size 432x288 with 1 Axes>"
            ]
          },
          "metadata": {
            "tags": [],
            "needs_background": "light"
          }
        },
        {
          "output_type": "display_data",
          "data": {
            "image/png": "[encoded data removed]",
            "text/plain": [
              "<Figure size 432x288 with 1 Axes>"
            ]
          },
          "metadata": {
            "tags": [],
            "needs_background": "light"
          }
        },
        {
          "output_type": "display_data",
          "data": {
            "image/png": "[encoded data removed]",
            "text/plain": [
              "<Figure size 432x288 with 1 Axes>"
            ]
          },
          "metadata": {
            "tags": [],
            "needs_background": "light"
          }
        }
      ]
    },
    {
      "cell_type": "markdown",
      "metadata": {
        "id": "yzfYzcCy83K-"
      },
      "source": [
        "Analisis : Dari analisis grafis di atas, dapat disimpulkan bahwa semakin banyak konektor, splitter dan penyambung fusi, dan pemilihan jenis serat akan mempengaruhi resistansi total dan akan mempengaruhi daya yang diterima. Dari daya yang diterima kita dapat melihat hasil SNR, semakin jauh jaraknya maka daya yang diterima semakin kecil, sehingga SNR semakin kecil dan kecil."
      ]
    }
  ]
}