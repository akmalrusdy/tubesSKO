{
  "nbformat": 4,
  "nbformat_minor": 0,
  "metadata": {
    "colab": {
      "name": "Akmal Rusdy Prasetyo_1101184015_TUBES SKO",
      "provenance": [],
      "authorship_tag": "ABX9TyM4d0JGncdRmDhszFY/wgYE",
      "include_colab_link": true
    },
    "kernelspec": {
      "name": "python3",
      "display_name": "Python 3"
    }
  },
  "cells": [
    {
      "cell_type": "markdown",
      "metadata": {
        "id": "view-in-github",
        "colab_type": "text"
      },
      "source": [
        "<a href=\"https://colab.research.google.com/github/akmalrusdy/tubesSKO/blob/main/Akmal_Rusdy_Prasetyo_1101184015_TUBES_SKO.ipynb\" target=\"_parent\"><img src=\"https://colab.research.google.com/assets/colab-badge.svg\" alt=\"Open In Colab\"/></a>"
      ]
    },
    {
      "cell_type": "markdown",
      "metadata": {
        "id": "uh0JyRIlgumV"
      },
      "source": [
        "Nama : Akmal Rusdy Prasetyo\r\n",
        "\r\n",
        "NIM : 1101184015\r\n",
        "\r\n",
        "Kelas : TT-42-02\r\n",
        "\r\n",
        "---\r\n",
        "Skenario Perancangan FTTB :\r\n",
        "\r\n",
        "Suatu gedung memiliki 13 lantai dan tinggi rata rata tiap lantai adalah 5 m. Jarak dari Gedung ke Sentral terdekat berkisar diantara 15 km. Pemasangan direncana menggunakan 6 konektor dan 2 splitter, splitter yang digunakan berjenis splitter 1:16 dengan redaman 13.5 dB untuk ONU ke ODP dan splitter 1:32 dengan redaman 16.6 dB untuk ODP ke Roset. Kami menggunakan fiber jenis G657 dengan panjang gelombang 1490 nm dengan redaman 0.4 dB/Km. Maka dari itu dapat diperoleh 8 buah splicer yang memiliki redaman 0.1 db.\r\n",
        "\r\n",
        "DIK :\r\n",
        "*   Tinggi Gedung = 13*5 = 65m\r\n",
        "*   Jumlah Konektor = 6\r\n",
        "*   Jumlah Splitter = 2\r\n",
        "*   Jumlah Splicer = 4\r\n",
        "*   Fiber Jenis G657, panjang gelombang 1490nm, redaman 0.4 dB/Km\r\n",
        "*   Redaman Splicer 0.1 dB\r\n",
        "\r\n",
        "\r\n",
        "\r\n",
        "\r\n",
        "\r\n",
        "\r\n",
        "\r\n",
        "\r\n",
        "\r\n"
      ]
    },
    {
      "cell_type": "code",
      "metadata": {
        "id": "E6VXYO2tguKt"
      },
      "source": [
        "import math as m\r\n",
        "import matplotlib.pyplot as plt\r\n",
        "import numpy as np"
      ],
      "execution_count": 1,
      "outputs": []
    },
    {
      "cell_type": "code",
      "metadata": {
        "id": "BbxYhKroqZGO"
      },
      "source": [
        "#Converter\r\n",
        "NtL = lambda x : 10 * np.log10(x)\r\n",
        "LtN = lambda x : 10**(x/10)\r\n",
        "\r\n",
        "#SNR\r\n",
        "R = 0.8 #Responsivitas (A/W)\r\n",
        "SM = 3 #Safety Margin (dB)\r\n",
        "M = -0.23 #Tambahan daya sinyal APD (dB)\r\n",
        "q = 1.6*10**-19\r\n",
        "id = 90*10**-9 #arus gelap (A)\r\n",
        "B = 8*10**9 #Bandwith (Hz)\r\n",
        "F = 1 #F(M), Faktor Gain\r\n",
        "K = 1.38*10**-23\r\n",
        "Teff = 300 #Kelvin\r\n",
        "RL = 50 #Ekuivalen Resistansi (Ohm)\r\n",
        "\r\n",
        "#PR\r\n",
        "d = np.arange(0.065,15.065,1) #Jarak (km)\r\n",
        "l_f = 0.4 #0.2 #Loss Fiber (dB/km)\r\n",
        "n_s = 4 #Jumlah Splicer\r\n",
        "l_s = 0.1 #Loss dari splicer (dB)\r\n",
        "n_c = 6 #Jumlah Konektor\r\n",
        "l_c = 0.3 #Loss dari konektor (dB)\r\n",
        "l_sp = 13.5 + 16.5 #loss dari splitter (dB)\r\n",
        "Pt = 3 #Daya tx (dBm)"
      ],
      "execution_count": 2,
      "outputs": []
    },
    {
      "cell_type": "code",
      "metadata": {
        "colab": {
          "base_uri": "https://localhost:8080/"
        },
        "id": "fTwP7igr6qD5",
        "outputId": "544ada98-4362-4914-bf53-d55a71ea2088"
      },
      "source": [
        "def P_receive():\r\n",
        "  #Pr,Pt (dBm)\r\n",
        "  #L_fiber,N_splitter,L_splicer,N_connector,L_connector,L_splitter (dB)\r\n",
        "\r\n",
        "  res_fiber = d * l_f\r\n",
        "  res_splicer = n_s * l_s\r\n",
        "  res_connector = n_c * l_c\r\n",
        "\r\n",
        "  alfa_tot = res_fiber + res_splicer + res_connector + l_sp + SM\r\n",
        "  Pr = Pt - alfa_tot\r\n",
        "  return Pr\r\n",
        "\r\n",
        "Pr = P_receive()\r\n",
        "print('Daya Terima = ', Pr)"
      ],
      "execution_count": 3,
      "outputs": [
        {
          "output_type": "stream",
          "text": [
            "Daya Terima =  [-32.226 -32.626 -33.026 -33.426 -33.826 -34.226 -34.626 -35.026 -35.426\n",
            " -35.826 -36.226 -36.626 -37.026 -37.426 -37.826]\n"
          ],
          "name": "stdout"
        }
      ]
    },
    {
      "cell_type": "code",
      "metadata": {
        "colab": {
          "base_uri": "https://localhost:8080/"
        },
        "id": "EtbfSRdt7aPW",
        "outputId": "0d4a2759-342a-4418-8553-379cfbfabc36"
      },
      "source": [
        "def arus_primer():\r\n",
        "  Pr_num = LtN(Pr)\r\n",
        "  Ip = Pr_num * R\r\n",
        "  return Ip\r\n",
        "Ip = arus_primer()\r\n",
        "print(\"Ip = \", Ip)"
      ],
      "execution_count": 4,
      "outputs": [
        {
          "output_type": "stream",
          "text": [
            "Ip =  [0.00047917 0.00043701 0.00039856 0.00036349 0.0003315  0.00030234\n",
            " 0.00027573 0.00025147 0.00022935 0.00020917 0.00019076 0.00017398\n",
            " 0.00015867 0.00014471 0.00013197]\n"
          ],
          "name": "stdout"
        }
      ]
    },
    {
      "cell_type": "code",
      "metadata": {
        "colab": {
          "base_uri": "https://localhost:8080/"
        },
        "id": "K1LKf-XE7n-0",
        "outputId": "8cca2921-2193-4427-8e13-c6a06d5585d0"
      },
      "source": [
        "def signal_power():\r\n",
        "  SP = (Ip*M)**2\r\n",
        "  return SP\r\n",
        "SP = signal_power()\r\n",
        "print('Signal Power = ', SP)"
      ],
      "execution_count": 5,
      "outputs": [
        {
          "output_type": "stream",
          "text": [
            "Signal Power =  [1.21460663e-08 1.01026579e-08 8.40302481e-09 6.98933161e-09\n",
            " 5.81347282e-09 4.83543607e-09 4.02194054e-09 3.34530443e-09\n",
            " 2.78250303e-09 2.31438521e-09 1.92502177e-09 1.60116337e-09\n",
            " 1.33178968e-09 1.10773441e-09 9.21373349e-10]\n"
          ],
          "name": "stdout"
        }
      ]
    },
    {
      "cell_type": "code",
      "metadata": {
        "colab": {
          "base_uri": "https://localhost:8080/"
        },
        "id": "gGfj7QjF70o9",
        "outputId": "93a53ccb-5a09-466c-c2f5-1cddcc7c91f6"
      },
      "source": [
        "#RUMUS SNR\r\n",
        "def SNR():\r\n",
        "  BDC = 2*q*id*B*(M**2)*F #Dark Current (Numerik)\r\n",
        "  SN = 2*q*Ip*B*(M**2)*F #Shot Noise (Numerik)\r\n",
        "  NT = (4*K*Teff*B)/RL #Noise Thermal (Numerik)\r\n",
        "  Signal = SP # (Numerik)\r\n",
        "  Noise = BDC + SN + NT # (Numerik)\r\n",
        "\r\n",
        "  SNR = Signal / Noise\r\n",
        "  SNR_dBm = NtL(SNR)\r\n",
        "  return SNR_dBm\r\n",
        "\r\n",
        "SNR = SNR()\r\n",
        "print(SNR)"
      ],
      "execution_count": 6,
      "outputs": [
        {
          "output_type": "stream",
          "text": [
            "[36.50745262 35.71659725 34.92495407 34.13258962 33.33956505 32.54593651\n",
            " 31.7517555  30.9570693  30.16192121 29.36635094 28.57039484 27.77408621\n",
            " 26.97745552 26.18053064 25.38333709]\n"
          ],
          "name": "stdout"
        }
      ]
    },
    {
      "cell_type": "code",
      "metadata": {
        "colab": {
          "base_uri": "https://localhost:8080/"
        },
        "id": "bbMitHZz8Qza",
        "outputId": "2b8141a0-24ac-47d7-80a3-576037aef66a"
      },
      "source": [
        "#RUMUS Q\r\n",
        "def Q_rumus():\r\n",
        "  Q = 0.5*(10**(SNR/20))\r\n",
        "  return Q\r\n",
        "Q = Q_rumus()\r\n",
        "print(Q)"
      ],
      "execution_count": 7,
      "outputs": [
        {
          "output_type": "stream",
          "text": [
            "[33.44588064 30.53513657 27.87518174 25.444826   23.22460076 21.19663052\n",
            " 19.34451205 17.65320112 16.10890665 14.69899192 13.4118827  12.23698182\n",
            " 11.16459003 10.18583264  9.29259177]\n"
          ],
          "name": "stdout"
        }
      ]
    },
    {
      "cell_type": "code",
      "metadata": {
        "colab": {
          "base_uri": "https://localhost:8080/"
        },
        "id": "AyEsdANy8qBr",
        "outputId": "5935e1fb-120a-4818-bf67-8feb3529b806"
      },
      "source": [
        "#RUMUS BER\r\n",
        "pengkali_list = []\r\n",
        "def BER_rumus():\r\n",
        "  akar = 1/(Q * m.sqrt(2 * m.pi))\r\n",
        "  for i in range(len(Q)):\r\n",
        "    pengkali = m.exp(-(Q[i]**2)/2)\r\n",
        "    pengkali_list.append(pengkali)\r\n",
        "  BER = (1/akar)*(pengkali_list)\r\n",
        "  return BER\r\n",
        "BER = BER_rumus()\r\n",
        "print(BER)"
      ],
      "execution_count": 8,
      "outputs": [
        {
          "output_type": "stream",
          "text": [
            "[1.03915600e-241 2.61205605e-201 1.30409224e-167 1.64081623e-139\n",
            " 4.36222061e-116 1.45117997e-096 2.67267951e-080 9.44326683e-067\n",
            " 1.80769814e-055 4.46134374e-046 2.92710662e-038 9.33958820e-032\n",
            " 2.39854635e-026 7.54748992e-022 4.13115409e-018]\n"
          ],
          "name": "stdout"
        }
      ]
    },
    {
      "cell_type": "code",
      "metadata": {
        "colab": {
          "base_uri": "https://localhost:8080/",
          "height": 1000
        },
        "id": "OUy4QejT8uPk",
        "outputId": "ce4035d0-cf74-40c7-d9eb-bc942e6b11b8"
      },
      "source": [
        "#GRAFIK\r\n",
        "def grafik_1():\r\n",
        "  plt.figure()\r\n",
        "  plt.plot(d,SNR,'r')\r\n",
        "  plt.title('Perbandingan Jarak dengan SNR')\r\n",
        "  plt.xlabel('Jarak (Km)')\r\n",
        "  plt.ylabel('SNR (dB)')\r\n",
        "  plt.show()\r\n",
        "\r\n",
        "def grafik_2():\r\n",
        "  plt.figure()\r\n",
        "  plt.plot(d,Q,'g')\r\n",
        "  plt.title('Perbandingan Jarak dengan Q')\r\n",
        "  plt.xlabel('Jarak (Km)')\r\n",
        "  plt.ylabel('Q')\r\n",
        "  plt.show()\r\n",
        "\r\n",
        "def grafik_3():\r\n",
        "  plt.figure()\r\n",
        "  plt.plot(d,BER,'b')\r\n",
        "  plt.title('Perbandingan Jarak dengan BER')\r\n",
        "  plt.xlabel('Jarak (Km)')\r\n",
        "  plt.ylabel('BER')\r\n",
        "  plt.show()\r\n",
        "\r\n",
        "def grafik_4():\r\n",
        "  plt.figure()\r\n",
        "  plt.plot(SNR,BER,'--')\r\n",
        "  plt.title('SNR vs BER')\r\n",
        "  plt.xlabel('SNR (dB)')\r\n",
        "  plt.ylabel('BER')\r\n",
        "  plt.show()\r\n",
        "\r\n",
        "grafik_1()\r\n",
        "grafik_2()\r\n",
        "grafik_3()\r\n",
        "grafik_4()"
      ],
      "execution_count": 9,
      "outputs": [
        {
          "output_type": "display_data",
          "data": {
            "image/png": "[encoded data removed]",
            "text/plain": [
              "<Figure size 432x288 with 1 Axes>"
            ]
          },
          "metadata": {
            "tags": [],
            "needs_background": "light"
          }
        },
        {
          "output_type": "display_data",
          "data": {
            "image/png": "[encoded data removed]",
            "text/plain": [
              "<Figure size 432x288 with 1 Axes>"
            ]
          },
          "metadata": {
            "tags": [],
            "needs_background": "light"
          }
        },
        {
          "output_type": "display_data",
          "data": {
            "image/png": "[encoded data removed]",
            "text/plain": [
              "<Figure size 432x288 with 1 Axes>"
            ]
          },
          "metadata": {
            "tags": [],
            "needs_background": "light"
          }
        },
        {
          "output_type": "display_data",
          "data": {
            "image/png": "[encoded data removed]",
            "text/plain": [
              "<Figure size 432x288 with 1 Axes>"
            ]
          },
          "metadata": {
            "tags": [],
            "needs_background": "light"
          }
        }
      ]
    },
    {
      "cell_type": "markdown",
      "metadata": {
        "id": "yzfYzcCy83K-"
      },
      "source": [
        "Analisis : Dari analisis grafis di atas, dapat disimpulkan bahwa semakin banyak konektor, splitter dan penyambung fusi, dan pemilihan jenis serat akan mempengaruhi resistansi total dan akan mempengaruhi daya yang diterima. Dari daya yang diterima kita dapat melihat hasil SNR, semakin jauh jaraknya maka daya yang diterima semakin kecil, sehingga SNR semakin kecil dan kecil."
      ]
    }
  ]
}